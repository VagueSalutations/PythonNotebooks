{
 "cells": [
  {
   "cell_type": "markdown",
   "metadata": {},
   "source": [
    "# 2. Python Crash-Course\n",
    "\n",
    "*Written on 05/17/18 by Braden Oh*\n",
    "\n",
    "This notebook will review the basics of writing in Python and provide a sample problem that can be solved with basic Python.  These notebooks, however, do not go in depth into the nuances of Python, so I highly recommend that you use online tutorials or other resources to gain a better familiarity with the language."
   ]
  },
  {
   "cell_type": "markdown",
   "metadata": {},
   "source": [
    "## Variable Assignment & Data Types\n",
    "Python has three basic data types, `str`, `int`, and `float`.  Variables' data types are implicitly defined (meaning you do not have to explicitly set the type of each variable at its declaration) and variables will change type as the data they are holding changes.  \n",
    "\n",
    "Data is assigned to a variable with the `=` assignment operator."
   ]
  },
  {
   "cell_type": "code",
   "execution_count": 12,
   "metadata": {},
   "outputs": [],
   "source": [
    "myString = \"Hello World!\"    # Strings are denoted by double quotes \"\n",
    "myInteger = 167              # Integers are numbers without a decimal point\n",
    "myFloat = 3.14159            # Floats are numbers with a decimal point"
   ]
  },
  {
   "cell_type": "markdown",
   "metadata": {},
   "source": [
    "Math is performed with the characters `+ - * / %` and basic string concatination can be performed with the `+` operator."
   ]
  },
  {
   "cell_type": "code",
   "execution_count": 13,
   "metadata": {},
   "outputs": [],
   "source": [
    "myInteger = myInteger + 5     # Simple integer addition\n",
    "remainder = 27 % 10           # The modulo operator % returns the remainder after division\n",
    "\n",
    "myFloat = 1.7724 * 1.7724     # Simple float multiplication\n",
    "\n",
    "myString = \"Hello\" + \" \" + \"World!\"   # Simple string concatination"
   ]
  },
  {
   "cell_type": "markdown",
   "metadata": {},
   "source": [
    "Type casting is the act of changing a data's type.  Simple type casting in Python is achieved with the built-in functions `str()`, `int()`, and `float()`.  The type of any piece of data can be returned with the function `type()`"
   ]
  },
  {
   "cell_type": "code",
   "execution_count": 20,
   "metadata": {},
   "outputs": [],
   "source": [
    "myInteger = int(\"10\")       # Converting from a string to an integer\n",
    "myFloat = float(10)         # Converting from an integer to a float\n",
    "myString = str(myFloat)     # Converting from a float to a string"
   ]
  },
  {
   "cell_type": "markdown",
   "metadata": {},
   "source": [
    "## Basic input/output\n",
    "Python has two built-in functions that are extremely useful for I/O.  `print()` displays a piece of data passed to it and `input()` grabs a raw keyboard input (type *string* by default).  Jupyter is able to display the raw value of a single variable (or function output) by listing that variable (or calling that function) at the end of a cell."
   ]
  },
  {
   "cell_type": "code",
   "execution_count": 15,
   "metadata": {},
   "outputs": [
    {
     "name": "stdout",
     "output_type": "stream",
     "text": [
      "10.0\n",
      "10.0\n"
     ]
    },
    {
     "data": {
      "text/plain": [
       "10"
      ]
     },
     "execution_count": 15,
     "metadata": {},
     "output_type": "execute_result"
    }
   ],
   "source": [
    "print(myString)     # Printing a string\n",
    "print(myFloat)      # Printing a float\n",
    "myInteger           # Jupyter auto-displaying a variable"
   ]
  },
  {
   "cell_type": "code",
   "execution_count": 17,
   "metadata": {},
   "outputs": [
    {
     "name": "stdout",
     "output_type": "stream",
     "text": [
      "Type stuff here: hello world!\n",
      "The user says hello world!\n"
     ]
    }
   ],
   "source": [
    "userString = input(\"Type stuff here: \")    # Collects a string from a user\n",
    "print(\"The user says \" + userString)       # String concatination inside a print statement"
   ]
  },
  {
   "cell_type": "markdown",
   "metadata": {},
   "source": [
    "By default `input()` returns a string; if another type of data is desired, the raw input must be type casted to the desired data type.  The built-in function `type()` returns the type of any piece of data."
   ]
  },
  {
   "cell_type": "code",
   "execution_count": 21,
   "metadata": {},
   "outputs": [
    {
     "name": "stdout",
     "output_type": "stream",
     "text": [
      "Enter a number: 10.0\n",
      "<class 'str'>\n",
      "Enter a number: 5\n",
      "<class 'int'>\n"
     ]
    }
   ],
   "source": [
    "# Example of an input without type casting\n",
    "rawData = input(\"Enter a number: \")\n",
    "print(type(rawData))\n",
    "\n",
    "# Example of an input with type casting\n",
    "userInteger = int(input(\"Enter a number: \"))\n",
    "print(type(userInteger))"
   ]
  },
  {
   "cell_type": "markdown",
   "metadata": {},
   "source": [
    "### ***Exercise***\n",
    "- Build a simple adding machine \n",
    "    - Collect two numbers from the user\n",
    "    - Add those numbers together\n",
    "    - Print \"The sum of your numbers is *sum*\"\n",
    "    \n",
    "Hint: You will need to type-cast multiple times"
   ]
  },
  {
   "cell_type": "code",
   "execution_count": null,
   "metadata": {},
   "outputs": [],
   "source": [
    "# Collect two numbers from the user\n",
    "\n",
    "# Add the numbers together\n",
    "\n",
    "# Print the output"
   ]
  },
  {
   "cell_type": "markdown",
   "metadata": {},
   "source": [
    "## Conditionals\n",
    "Python's conditional statements consist of standard if-else statements (Python does not have switch statements) given by `if`, `elif`, and `else` followed by an indented block of code (Python does not use curly braces for code grouping).  Simple comparisons are performed by using the double-equals comparision operator, `==`."
   ]
  },
  {
   "cell_type": "code",
   "execution_count": 36,
   "metadata": {},
   "outputs": [
    {
     "name": "stdout",
     "output_type": "stream",
     "text": [
      "Enter A, B, or C: D\n",
      "I don't recognize that input\n"
     ]
    }
   ],
   "source": [
    "case = input(\"Enter A, B, or C: \")\n",
    "\n",
    "if case == \"A\":\n",
    "    print(\"You selected A\")\n",
    "elif case == \"B\":\n",
    "    print(\"You selected B\")\n",
    "elif case == \"C\":\n",
    "    print(\"You selected C\")\n",
    "else:\n",
    "    print(\"I don't recognize that input\")"
   ]
  },
  {
   "cell_type": "markdown",
   "metadata": {},
   "source": [
    "Other comparisons include `< > <= >=` and `!=`, which denotes *not equal to*.  Compound conditionals (checking multiple conditions in the same branch of the `if` statement) are built by separating individual comparisons by the keywords `and` or `or`."
   ]
  },
  {
   "cell_type": "code",
   "execution_count": 34,
   "metadata": {},
   "outputs": [
    {
     "name": "stdout",
     "output_type": "stream",
     "text": [
      "False\n",
      "True\n",
      "True\n",
      "False\n"
     ]
    }
   ],
   "source": [
    "num = 50\n",
    "\n",
    "print(num < 50)\n",
    "\n",
    "print(num < 50 or num == 50)\n",
    "\n",
    "print(num <= 50)\n",
    "\n",
    "print(num < 50 and num == 50)"
   ]
  },
  {
   "cell_type": "markdown",
   "metadata": {},
   "source": [
    "### ***Exercise***\n",
    "- Above, re-write the first conditional example to detect upper and lower case letters\n",
    " - i.e. execute case \"A\" if the user types in either \"A\" or \"a\""
   ]
  },
  {
   "cell_type": "markdown",
   "metadata": {},
   "source": [
    "### ***Exercise***\n",
    "- Below, write a simple calculator\n",
    "    - Collect two numbers from the user\n",
    "    - Collect a mathematical operator from the user\n",
    "    - Combine the numbers according to that operator\n",
    "    \n",
    "Hint: Consider your type-casting. What data type supports decimal outputs?"
   ]
  },
  {
   "cell_type": "code",
   "execution_count": null,
   "metadata": {},
   "outputs": [],
   "source": [
    "# Collect two numbers from the user\n",
    "# Collect a mathematical operator from the user\n",
    "\n",
    "# Combine the numbers\n",
    "\n",
    "# Print the output"
   ]
  },
  {
   "cell_type": "markdown",
   "metadata": {},
   "source": [
    "## Loops\n",
    "Python supports two types of loops, `For-in` loops and `while` loops.  `for-in` loops iterate through a list of data, whether that be *int* or some other object, and `while` loops run continuously until a certain state is reached.\n",
    "\n",
    "A `for-in` loop that runs a set number of times is called a *count-controlled* for loop.  In Python, a for loop that runs *n* times is achieved by iterating through each element, *count*, in a list of numbers from *a* to *n+1*.  The special function `range(a, n+1)` controls the length of the for loop:"
   ]
  },
  {
   "cell_type": "code",
   "execution_count": 31,
   "metadata": {},
   "outputs": [
    {
     "name": "stdout",
     "output_type": "stream",
     "text": [
      "1\n",
      "2\n",
      "3\n",
      "4\n"
     ]
    }
   ],
   "source": [
    "# A count-controlled for loop that runs 4 times\n",
    "for count in range(1,5):\n",
    "    print(count)"
   ]
  },
  {
   "cell_type": "markdown",
   "metadata": {},
   "source": [
    "`for-in` loops can also be used to iterate through a `list` of arbitrary length (we'll talk about lists later on, but here's an example of a for loop running through a list anyway):"
   ]
  },
  {
   "cell_type": "code",
   "execution_count": 33,
   "metadata": {},
   "outputs": [
    {
     "name": "stdout",
     "output_type": "stream",
     "text": [
      "Family includes a mom\n",
      "Family includes a dad\n",
      "Family includes a brother\n",
      "Family includes a sister\n",
      "Family includes a dog\n"
     ]
    }
   ],
   "source": [
    "# Generating a list of strings\n",
    "family = [\"mom\", \"dad\", \"brother\", \"sister\", \"dog\"]\n",
    "\n",
    "# Iterating through each element of the family list\n",
    "for person in family:\n",
    "    print(\"Family includes a \" + person)"
   ]
  },
  {
   "cell_type": "markdown",
   "metadata": {},
   "source": [
    "`while` loops are generally implemented in one of two ways: *count-controlled* or *sentinel-controlled*.  Count-controlled `while` loops update a counter each pass through the loop and check that the counter is below a threshold value before executing the next iteration of the loop:"
   ]
  },
  {
   "cell_type": "code",
   "execution_count": 35,
   "metadata": {},
   "outputs": [
    {
     "name": "stdout",
     "output_type": "stream",
     "text": [
      "Running iteration 0\n",
      "Running iteration 1\n",
      "Running iteration 2\n",
      "Running iteration 3\n",
      "Running iteration 4\n"
     ]
    }
   ],
   "source": [
    "# Initialize a counter variable\n",
    "counter = 0\n",
    "\n",
    "while counter < 5:\n",
    "    print(\"Running iteration \" + str(counter))\n",
    "    # Update the counter by adding 1\n",
    "    counter += 1"
   ]
  },
  {
   "cell_type": "markdown",
   "metadata": {},
   "source": [
    "*Sentinel-controlled* `while` loops are `while` loops that run on a switch; on every pass through the loop, a condition is checked and the code decides whether to flip the switch off.\n",
    "\n",
    "Most of the time a sentinel holds a binary *Boolean* value.  In Python, these are the values `True` and `False`:"
   ]
  },
  {
   "cell_type": "code",
   "execution_count": 38,
   "metadata": {},
   "outputs": [
    {
     "name": "stdout",
     "output_type": "stream",
     "text": [
      "Total = 5\n",
      "Total = 10\n",
      "Total = 15\n"
     ]
    }
   ],
   "source": [
    "# Declare a boolean sentinel value\n",
    "switch = True\n",
    "total = 0\n",
    "\n",
    "while switch:\n",
    "    \n",
    "    total += 5\n",
    "    print(\"Total = \" + str(total))\n",
    "    \n",
    "    # Sentinel control statement\n",
    "    if total > 10:\n",
    "        switch = False\n",
    "    "
   ]
  },
  {
   "cell_type": "markdown",
   "metadata": {},
   "source": [
    "### ***Exercise***\n",
    "- Below, use a loop to find the sum of all numbers from *a* to *b*\n",
    " - **Note:** Do not use the word \"sum\" as your sum variable, `sum` is actually a built-in function for lists"
   ]
  },
  {
   "cell_type": "code",
   "execution_count": 60,
   "metadata": {},
   "outputs": [
    {
     "name": "stdout",
     "output_type": "stream",
     "text": [
      "Defined variables a and b\n"
     ]
    }
   ],
   "source": [
    "a = 57\n",
    "b = 165\n",
    "print(\"Defined variables a and b\")"
   ]
  },
  {
   "cell_type": "code",
   "execution_count": null,
   "metadata": {},
   "outputs": [],
   "source": [
    "# Initialize a sum variable (don't use the word \"sum\")\n",
    "\n",
    "# Create a loop that iterates from a to b, adding to the sum variable at each iteration\n",
    "\n",
    "# Is your answer 12099?  Adjust your loop accordingly."
   ]
  },
  {
   "cell_type": "markdown",
   "metadata": {},
   "source": [
    "### ***Exercise***\n",
    "- What is the sum of *a* and *b*?  \n",
    " - Of *a+1* and *b-1*?  \n",
    " - Of *a+2* and *b-2*?\n",
    "- What is the difference between *a* and *b*?  Half the difference?\n",
    "- How many times do you need to multiply *(a+b)* to reach the total?  Does this make sense?"
   ]
  },
  {
   "cell_type": "code",
   "execution_count": 56,
   "metadata": {},
   "outputs": [],
   "source": [
    "# Find the sum of a and b; a+1 and b-1; etc.\n",
    "\n",
    "# Find the difference. Half the difference?\n",
    "\n",
    "# Find the coefficient of (a+b) to reach 12099"
   ]
  },
  {
   "cell_type": "markdown",
   "metadata": {},
   "source": [
    "This is a known mathematical property of series and can be written as a single mathematical expression of the form `n*(a+b)`\n",
    "- What is the coefficient *n*?\n",
    "- Implement the raw mathematical statement in Python"
   ]
  },
  {
   "cell_type": "code",
   "execution_count": 62,
   "metadata": {},
   "outputs": [],
   "source": [
    "# n = \n",
    "# sum = n*(a + b)"
   ]
  },
  {
   "cell_type": "markdown",
   "metadata": {},
   "source": [
    "Now consider the above equation to be a loop that sums *a+b, n* times, except in the case where *n* is not a whole number.  If *n* is not a whole number, an additional step must be made.\n",
    "- Implement this as a loop in Python.\n",
    "\n",
    "*Hint:* A conditional can handle the case where *n* is not a whole number\n",
    "\n",
    "**Warning:** Type-casting after division may be a problem; loops can only iterate through integers!\n"
   ]
  },
  {
   "cell_type": "code",
   "execution_count": 63,
   "metadata": {},
   "outputs": [],
   "source": [
    "# Initialize a sum variable (don't use the word \"sum\")\n",
    "\n",
    "# Calculate n\n",
    "# Check if n is a whole number\n",
    "\n",
    "# Write a loop that adds (a+b) the correct number of times\n",
    "\n",
    "# If n is not a whole number, an additional step must be made..."
   ]
  }
 ],
 "metadata": {
  "kernelspec": {
   "display_name": "Python 3",
   "language": "python",
   "name": "python3"
  },
  "language_info": {
   "codemirror_mode": {
    "name": "ipython",
    "version": 3
   },
   "file_extension": ".py",
   "mimetype": "text/x-python",
   "name": "python",
   "nbconvert_exporter": "python",
   "pygments_lexer": "ipython3",
   "version": "3.6.4"
  }
 },
 "nbformat": 4,
 "nbformat_minor": 2
}
