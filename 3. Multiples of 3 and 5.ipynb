{
 "cells": [
  {
   "cell_type": "markdown",
   "metadata": {},
   "source": [
    "# 3. Multiples of 3 and 5\n",
    "\n",
    "*Notebook written on 05/17/18 by Braden Oh*\n",
    "\n",
    "*Problem publicly listed on Project Euler (see projecteuler.net, Problem 1)*\n",
    "\n",
    "If we list all the natural numbers below 10 that are multiples of 3 or 5, we get 3, 5, 6 and 9.  The sum of these multiples is 23.  Find the sum of all the multiples of 3 or 5 below 1000."
   ]
  },
  {
   "cell_type": "code",
   "execution_count": null,
   "metadata": {},
   "outputs": [],
   "source": [
    "\n",
    "\n",
    "\n",
    "# Write code here\n",
    "\n",
    "\n"
   ]
  },
  {
   "cell_type": "markdown",
   "metadata": {},
   "source": [
    "## Answer\n",
    "**The correct answer is 233168**"
   ]
  },
  {
   "cell_type": "markdown",
   "metadata": {},
   "source": [
    "## Helpful Tip\n",
    "Calculations can be performed inside of a conditional:"
   ]
  },
  {
   "cell_type": "code",
   "execution_count": 7,
   "metadata": {},
   "outputs": [
    {
     "name": "stdout",
     "output_type": "stream",
     "text": [
      "True!\n"
     ]
    }
   ],
   "source": [
    "a = 12\n",
    "b = 7\n",
    "\n",
    "if ((a + b)/2) > 2:   # A calculation is performed inside the conditional\n",
    "    print(\"True!\")\n",
    "    \n",
    "else:\n",
    "    print(\"False!\")"
   ]
  },
  {
   "cell_type": "markdown",
   "metadata": {},
   "source": [
    "## Hint\n",
    "You may find the modulo `%` operator useful here; modulo returns the remainder from a division problem:"
   ]
  },
  {
   "cell_type": "code",
   "execution_count": 6,
   "metadata": {},
   "outputs": [
    {
     "name": "stdout",
     "output_type": "stream",
     "text": [
      "0\n",
      "3\n",
      "0\n",
      "0\n"
     ]
    }
   ],
   "source": [
    "num = 33\n",
    "print(num % 3)   # 33 is a multiple of 3 - remainder of 0\n",
    "print(num % 5)   # 30 is a multiple of 5 - remainder of 3\n",
    "\n",
    "num = 15\n",
    "print(num % 3)   # 15 is a multiple of 3 - remainder of 0\n",
    "print(num % 5)   # 15 is a multiple of 5 - remainder of 0"
   ]
  }
 ],
 "metadata": {
  "kernelspec": {
   "display_name": "Python 3",
   "language": "python",
   "name": "python3"
  },
  "language_info": {
   "codemirror_mode": {
    "name": "ipython",
    "version": 3
   },
   "file_extension": ".py",
   "mimetype": "text/x-python",
   "name": "python",
   "nbconvert_exporter": "python",
   "pygments_lexer": "ipython3",
   "version": "3.6.4"
  }
 },
 "nbformat": 4,
 "nbformat_minor": 2
}
