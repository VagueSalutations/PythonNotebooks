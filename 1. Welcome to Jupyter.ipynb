{
 "cells": [
  {
   "cell_type": "markdown",
   "metadata": {},
   "source": [
    "# 1. Welcome to Jupyter\n",
    "\n",
    "*Written on 05/16/18 by Braden Oh*\n",
    "\n",
    "Welcome to Python in Jupyter.  I'm going to use this notebook to try and help you navigate the Jupyter environment and become comfortable running basic Python commands in Jupyter cells."
   ]
  },
  {
   "cell_type": "markdown",
   "metadata": {},
   "source": [
    "## Notebooks and Cells\n",
    "\n",
    "You are currently looking at a Jupyter notebook.  A \"notebook\" is a collection of text boxes called cells, which can have different functions (i.e. text vs. code).  For instance, if you double click anywhere on this paragraph you'll be able to edit it in a `Markdown` cell.  Markdown is a set of rules for raw text formatting and is what I write lesson material in.  You can use Markdown to document your code, if you choose.  Below is an example of a `Code` cell, in which you can write and run actual Python code."
   ]
  },
  {
   "cell_type": "code",
   "execution_count": null,
   "metadata": {},
   "outputs": [],
   "source": [
    "# This is a Code cell, anything you type here can be run\n",
    "\n",
    "# Hit \"Run\" in the top navigation bar to run this code\n",
    "print(\"If this runs successfully, you will see this text as an output.\")"
   ]
  },
  {
   "cell_type": "markdown",
   "metadata": {},
   "source": [
    "Now for something a little weird:  Each `Code` cell in Jupyter is run independently of the other code cells, but Jupyter runs a **single** instance of a Python environment in each notebook.  This means that you can run and test small segments of code at a time by encasing them in their own cells, *but the order in which you run the cells matters.*\n",
    "\n",
    "For instance, if I declare the variable `a` in this cell:"
   ]
  },
  {
   "cell_type": "code",
   "execution_count": null,
   "metadata": {},
   "outputs": [],
   "source": [
    "a = 10\n",
    "a"
   ]
  },
  {
   "cell_type": "markdown",
   "metadata": {},
   "source": [
    "I can access variable `a` in subsequent cells:"
   ]
  },
  {
   "cell_type": "code",
   "execution_count": 7,
   "metadata": {},
   "outputs": [
    {
     "name": "stdout",
     "output_type": "stream",
     "text": [
      "The value of a is 15\n"
     ]
    }
   ],
   "source": [
    "print(\"The value of a is \" + str(a))"
   ]
  },
  {
   "cell_type": "markdown",
   "metadata": {},
   "source": [
    "But if I change the value of `a` in this cell (below), the above cells don't \"notice\" the change until they are run again:"
   ]
  },
  {
   "cell_type": "code",
   "execution_count": 6,
   "metadata": {},
   "outputs": [
    {
     "data": {
      "text/plain": [
       "15"
      ]
     },
     "execution_count": 6,
     "metadata": {},
     "output_type": "execute_result"
    }
   ],
   "source": [
    "a = a + 5\n",
    "a"
   ]
  },
  {
   "cell_type": "markdown",
   "metadata": {},
   "source": [
    "### ***Exercise***\n",
    "- Go back and re-run the print statement cell.  What does it output, now that the value of `a` has changed?  \n",
    "\n",
    "- What happens if you run the first cell again?  What does the print statement output now?"
   ]
  },
  {
   "cell_type": "markdown",
   "metadata": {},
   "source": [
    "## Creating your own cells\n",
    "Now that you're starting to understand what cells are, let's create your own `Code` cell.  Single click on this paragraph, so that you see a box around it, and in the top bar select `Insert –> Insert Cell Below` or click the `+` button in the toolbar."
   ]
  },
  {
   "cell_type": "markdown",
   "metadata": {},
   "source": [
    "### ***Exercise***\n",
    "- Go ahead and play with your new cell.  Try defining a variable called `name` and use Python's `input()` function to ask for your name and save it to that variable.\n",
    "\n",
    "- Create another cell below the one you just created.  What happens if you modify the value of `name`?  What happens if you run the first cell you created again?"
   ]
  },
  {
   "cell_type": "markdown",
   "metadata": {},
   "source": [
    "By default Jupyter automatically creates a `Code` cell each time you use `Insert Cell`.  If you want to write documentation you will need to switch the cell type to `Markdown`.  \n",
    "\n",
    "There is an empty `Code` cell below.  Single-click the cell so that it is highlighted and then, from the top menu, select `Cell –> Cell Type –> Markdown` or select Markdown from the dropdown box in the tool bar underneath `Widgets`."
   ]
  },
  {
   "cell_type": "code",
   "execution_count": null,
   "metadata": {},
   "outputs": [],
   "source": [
    "# Turn me into a markdown cell"
   ]
  },
  {
   "cell_type": "markdown",
   "metadata": {},
   "source": [
    "### ***Exercise***\n",
    "- Go ahead and play with your new cell.  When you are finished, hit `Run` to see how the cell renders your text\n",
    "\n",
    "- Markdown has formatting rules that render text in interesting ways.  Try the following:\n",
    " - Begin a line with `#`.\n",
    " - Encase a word with `*`.  How about `**`?  `***`?\n",
    " - Encase a word with the \\` character (slanted apostrophe underneath the `~`)"
   ]
  },
  {
   "cell_type": "markdown",
   "metadata": {},
   "source": [
    "## A few other useful things\n",
    "Jupyter doesn't save automatically!  Go ahead and hit `Cmd+S` or `File –> Save` now.\n",
    "\n",
    "Jupyter has a toolbar to help manage your environment.  Cells can be re-ordered with the up and down arrows, entire cells can be cut, copied, and pasted with the buttons to the left, and your Python kernel can be run, paused, and restarted from the buttons to the left.\n",
    "\n",
    "You can export a Jupyter notebook to various other forms with `File –> Download as` (though I don't find exporting to .py works very well; I'd recommend you just cut-and-paste your relevant code from the notebook)."
   ]
  }
 ],
 "metadata": {
  "kernelspec": {
   "display_name": "Python 3",
   "language": "python",
   "name": "python3"
  },
  "language_info": {
   "codemirror_mode": {
    "name": "ipython",
    "version": 3
   },
   "file_extension": ".py",
   "mimetype": "text/x-python",
   "name": "python",
   "nbconvert_exporter": "python",
   "pygments_lexer": "ipython3",
   "version": "3.6.4"
  }
 },
 "nbformat": 4,
 "nbformat_minor": 2
}
